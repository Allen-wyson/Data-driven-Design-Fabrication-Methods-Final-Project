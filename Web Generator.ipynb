{
 "cells": [
  {
   "cell_type": "code",
   "execution_count": 5,
   "metadata": {},
   "outputs": [],
   "source": [
    "import win32com.client\n",
    "import pythoncom"
   ]
  },
  {
   "cell_type": "code",
   "execution_count": 6,
   "metadata": {},
   "outputs": [],
   "source": [
    "swAPP = win32com.client.Dispatch(\"SldWorks.Application\")\n",
    "Part = swAPP.ActiveDoc"
   ]
  },
  {
   "cell_type": "code",
   "execution_count": 7,
   "metadata": {},
   "outputs": [],
   "source": [
    "boolstatus = Part.Extension.SelectByID2(\"前基準面\", \"PLANE\", 0, 0, 0, False, 0, pythoncom.Nothing, 0)\n"
   ]
  },
  {
   "cell_type": "code",
   "execution_count": 8,
   "metadata": {},
   "outputs": [],
   "source": [
    "import math\n",
    "\n",
    "# Define the number of lines for the web\n",
    "num_lines = 12\n",
    "num_spirals = 5\n",
    "radius = 0.4\n",
    "\n",
    "# Insert a new sketch\n",
    "Part.SketchManager.InsertSketch(True)\n",
    "\n",
    "# Draw lines from the center to the circumference\n",
    "for i in range(num_lines):\n",
    "    angle = (2 * math.pi / num_lines) * i\n",
    "    x = radius * math.cos(angle)\n",
    "    y = radius * math.sin(angle)\n",
    "    Part.SketchManager.CreateLine(0, 0, 0, x, y, 0)\n",
    "\n",
    "# Exit the sketch\n",
    "Part.ClearSelection2(True)\n",
    "Part.SketchManager.InsertSketch(True)\n",
    "\n",
    "# Draw spiral threads of the spider web\n",
    "spiral_increment = radius / (num_spirals * num_lines)\n",
    "prev_x, prev_y = 0, 0  # Initialize previous coordinates\n",
    "for j in range(num_spirals * num_lines + 1):\n",
    "    angle = (2 * math.pi / num_lines) * (j % num_lines)\n",
    "    spiral_radius = spiral_increment * j\n",
    "    x = spiral_radius * math.cos(angle)\n",
    "    y = spiral_radius * math.sin(angle)\n",
    "    if j == 0:\n",
    "        Part.SketchManager.CreateCircle(0, 0, 0, x, y, 0)\n",
    "    else:\n",
    "        Part.SketchManager.CreateLine(prev_x, prev_y, 0, x, y, 0)\n",
    "    prev_x, prev_y = x, y\n",
    "\n",
    "Part.ClearSelection2(True)"
   ]
  },
  {
   "cell_type": "code",
   "execution_count": null,
   "metadata": {
    "vscode": {
     "languageId": "r"
    }
   },
   "outputs": [],
   "source": [
    "# Calculate total length of radial threads\n",
    "radial_length = 0\n",
    "for i in range(num_lines):\n",
    "    # Each radial thread goes from center (0,0) to (x, y) on circumference\n",
    "    angle = (2 * math.pi / num_lines) * i\n",
    "    x = radius * math.cos(angle)\n",
    "    y = radius * math.sin(angle)\n",
    "    length = math.hypot(x, y)\n",
    "    radial_length += length\n",
    "\n",
    "# Calculate total length of spiral threads\n",
    "spiral_length = 0\n",
    "for j in range(1, num_spirals * num_lines + 1):\n",
    "    prev_angle = (2 * math.pi / num_lines) * ((j - 1) % num_lines)\n",
    "    prev_radius = spiral_increment * (j - 1)\n",
    "    prev_x = prev_radius * math.cos(prev_angle)\n",
    "    prev_y = prev_radius * math.sin(prev_angle)\n",
    "\n",
    "    angle = (2 * math.pi / num_lines) * (j % num_lines)\n",
    "    spiral_radius = spiral_increment * j\n",
    "    x = spiral_radius * math.cos(angle)\n",
    "    y = spiral_radius * math.sin(angle)\n",
    "\n",
    "    length = math.hypot(x - prev_x, y - prev_y)\n",
    "    spiral_length += length\n",
    "\n",
    "print(f\"Total length of radial threads: {radial_length:.4f}\")\n",
    "print(f\"Total length of spiral threads: {spiral_length:.4f}\")"
   ]
  }
 ],
 "metadata": {
  "kernelspec": {
   "display_name": "Python 3",
   "language": "python",
   "name": "python3"
  },
  "language_info": {
   "codemirror_mode": {
    "name": "ipython",
    "version": 3
   },
   "file_extension": ".py",
   "mimetype": "text/x-python",
   "name": "python",
   "nbconvert_exporter": "python",
   "pygments_lexer": "ipython3",
   "version": "3.12.6"
  }
 },
 "nbformat": 4,
 "nbformat_minor": 2
}
