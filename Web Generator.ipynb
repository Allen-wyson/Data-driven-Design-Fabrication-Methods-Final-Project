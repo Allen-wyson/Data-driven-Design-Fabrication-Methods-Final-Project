{
 "cells": [
  {
   "cell_type": "code",
   "execution_count": 11,
   "metadata": {},
   "outputs": [],
   "source": [
    "import win32com.client\n",
    "import pythoncom"
   ]
  },
  {
   "cell_type": "code",
   "execution_count": 12,
   "metadata": {},
   "outputs": [],
   "source": [
    "swAPP = win32com.client.Dispatch(\"SldWorks.Application\")\n",
    "Part = swAPP.ActiveDoc"
   ]
  },
  {
   "cell_type": "code",
   "execution_count": 13,
   "metadata": {},
   "outputs": [],
   "source": [
    "boolstatus = Part.Extension.SelectByID2(\"前基準面\", \"PLANE\", 0, 0, 0, False, 0, pythoncom.Nothing, 0)\n"
   ]
  },
  {
   "cell_type": "code",
   "execution_count": null,
   "metadata": {},
   "outputs": [],
   "source": [
    "import math\n",
    "\n",
    "# Define the number of lines for the web\n",
    "num_lines = 20\n",
    "num_spirals = 6\n",
    "radius = 0.1\n",
    "\n",
    "# Insert a new sketch\n",
    "Part.SketchManager.InsertSketch(True)\n",
    "\n",
    "# Draw lines from the center to the circumference\n",
    "for i in range(num_lines):\n",
    "    angle = (2 * math.pi / num_lines) * i\n",
    "    x = radius * math.cos(angle)\n",
    "    y = radius * math.sin(angle)\n",
    "    Part.SketchManager.CreateLine(0, 0, 0, x, y, 0)\n",
    "\n",
    "# Exit the sketch\n",
    "Part.ClearSelection2(True)\n",
    "Part.SketchManager.InsertSketch(True)\n",
    "\n",
    "# Draw spiral threads of the spider web\n",
    "spiral_increment = radius / (num_spirals * num_lines)\n",
    "prev_x, prev_y = 0, 0  # Initialize previous coordinates\n",
    "for j in range(num_spirals * num_lines + 1):\n",
    "    angle = (2 * math.pi / num_lines) * (j % num_lines)\n",
    "    spiral_radius = spiral_increment * j\n",
    "    x = spiral_radius * math.cos(angle)\n",
    "    y = spiral_radius * math.sin(angle)\n",
    "    if j == 0:\n",
    "        Part.SketchManager.CreateCircle(0, 0, 0, x, y, 0)\n",
    "    else:\n",
    "        Part.SketchManager.CreateLine(prev_x, prev_y, 0, x, y, 0)\n",
    "    prev_x, prev_y = x, y\n",
    "\n",
    "Part.ClearSelection2(True)"
   ]
  }
 ],
 "metadata": {
  "kernelspec": {
   "display_name": "Python 3",
   "language": "python",
   "name": "python3"
  },
  "language_info": {
   "codemirror_mode": {
    "name": "ipython",
    "version": 3
   },
   "file_extension": ".py",
   "mimetype": "text/x-python",
   "name": "python",
   "nbconvert_exporter": "python",
   "pygments_lexer": "ipython3",
   "version": "3.13.2"
  }
 },
 "nbformat": 4,
 "nbformat_minor": 2
}
